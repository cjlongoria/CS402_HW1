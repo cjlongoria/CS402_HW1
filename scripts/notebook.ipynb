{
 "cells": [
  {
   "cell_type": "code",
   "execution_count": 1,
   "metadata": {},
   "outputs": [],
   "source": [
    "import pandas as pd \n",
    "import matplotlib.pyplot as plt"
   ]
  },
  {
   "cell_type": "code",
   "execution_count": 2,
   "metadata": {},
   "outputs": [],
   "source": [
    "df = pd.read_fwf('spice.txt', header=None)"
   ]
  },
  {
   "cell_type": "code",
   "execution_count": 3,
   "metadata": {},
   "outputs": [],
   "source": [
    "df.rename(columns={0:'Action',1:'Hex'}, inplace=True)"
   ]
  },
  {
   "cell_type": "code",
   "execution_count": 4,
   "metadata": {
    "tags": []
   },
   "outputs": [],
   "source": [
    "df['Dec'] = df['Hex'].apply(int, base=16)\n",
    "df.sort_values(by=['Dec'], inplace=True)"
   ]
  },
  {
   "cell_type": "code",
   "execution_count": 5,
   "metadata": {},
   "outputs": [
    {
     "data": {
      "text/html": [
       "<div>\n",
       "<style scoped>\n",
       "    .dataframe tbody tr th:only-of-type {\n",
       "        vertical-align: middle;\n",
       "    }\n",
       "\n",
       "    .dataframe tbody tr th {\n",
       "        vertical-align: top;\n",
       "    }\n",
       "\n",
       "    .dataframe thead th {\n",
       "        text-align: right;\n",
       "    }\n",
       "</style>\n",
       "<table border=\"1\" class=\"dataframe\">\n",
       "  <thead>\n",
       "    <tr style=\"text-align: right;\">\n",
       "      <th></th>\n",
       "      <th>Action</th>\n",
       "      <th>Hex</th>\n",
       "      <th>Dec</th>\n",
       "    </tr>\n",
       "  </thead>\n",
       "  <tbody>\n",
       "    <tr>\n",
       "      <th>237199</th>\n",
       "      <td>2</td>\n",
       "      <td>40044c</td>\n",
       "      <td>4195404</td>\n",
       "    </tr>\n",
       "    <tr>\n",
       "      <th>237200</th>\n",
       "      <td>2</td>\n",
       "      <td>400450</td>\n",
       "      <td>4195408</td>\n",
       "    </tr>\n",
       "    <tr>\n",
       "      <th>237202</th>\n",
       "      <td>2</td>\n",
       "      <td>400454</td>\n",
       "      <td>4195412</td>\n",
       "    </tr>\n",
       "    <tr>\n",
       "      <th>237203</th>\n",
       "      <td>2</td>\n",
       "      <td>400458</td>\n",
       "      <td>4195416</td>\n",
       "    </tr>\n",
       "    <tr>\n",
       "      <th>237204</th>\n",
       "      <td>2</td>\n",
       "      <td>40045c</td>\n",
       "      <td>4195420</td>\n",
       "    </tr>\n",
       "  </tbody>\n",
       "</table>\n",
       "</div>"
      ],
      "text/plain": [
       "        Action     Hex      Dec\n",
       "237199       2  40044c  4195404\n",
       "237200       2  400450  4195408\n",
       "237202       2  400454  4195412\n",
       "237203       2  400458  4195416\n",
       "237204       2  40045c  4195420"
      ]
     },
     "execution_count": 5,
     "metadata": {},
     "output_type": "execute_result"
    }
   ],
   "source": [
    "df.head()"
   ]
  },
  {
   "cell_type": "code",
   "execution_count": 6,
   "metadata": {},
   "outputs": [
    {
     "data": {
      "text/plain": [
       "407d6c      12965\n",
       "407d70      12965\n",
       "407d7c      12964\n",
       "407d78      12964\n",
       "407d80      12964\n",
       "            ...  \n",
       "41451c          1\n",
       "101a0732        1\n",
       "10011034        1\n",
       "101a0bde        1\n",
       "40c590          1\n",
       "Name: Hex, Length: 15320, dtype: int64"
      ]
     },
     "execution_count": 6,
     "metadata": {},
     "output_type": "execute_result"
    }
   ],
   "source": [
    "df['Hex'].value_counts()"
   ]
  },
  {
   "cell_type": "code",
   "execution_count": 7,
   "metadata": {},
   "outputs": [
    {
     "data": {
      "text/html": [
       "<div>\n",
       "<style scoped>\n",
       "    .dataframe tbody tr th:only-of-type {\n",
       "        vertical-align: middle;\n",
       "    }\n",
       "\n",
       "    .dataframe tbody tr th {\n",
       "        vertical-align: top;\n",
       "    }\n",
       "\n",
       "    .dataframe thead th {\n",
       "        text-align: right;\n",
       "    }\n",
       "</style>\n",
       "<table border=\"1\" class=\"dataframe\">\n",
       "  <thead>\n",
       "    <tr style=\"text-align: right;\">\n",
       "      <th></th>\n",
       "      <th>Action</th>\n",
       "      <th>Hex</th>\n",
       "      <th>Dec</th>\n",
       "    </tr>\n",
       "  </thead>\n",
       "  <tbody>\n",
       "    <tr>\n",
       "      <th>237199</th>\n",
       "      <td>2</td>\n",
       "      <td>40044c</td>\n",
       "      <td>4195404</td>\n",
       "    </tr>\n",
       "    <tr>\n",
       "      <th>237200</th>\n",
       "      <td>2</td>\n",
       "      <td>400450</td>\n",
       "      <td>4195408</td>\n",
       "    </tr>\n",
       "    <tr>\n",
       "      <th>237202</th>\n",
       "      <td>2</td>\n",
       "      <td>400454</td>\n",
       "      <td>4195412</td>\n",
       "    </tr>\n",
       "    <tr>\n",
       "      <th>237203</th>\n",
       "      <td>2</td>\n",
       "      <td>400458</td>\n",
       "      <td>4195416</td>\n",
       "    </tr>\n",
       "    <tr>\n",
       "      <th>237204</th>\n",
       "      <td>2</td>\n",
       "      <td>40045c</td>\n",
       "      <td>4195420</td>\n",
       "    </tr>\n",
       "    <tr>\n",
       "      <th>...</th>\n",
       "      <td>...</td>\n",
       "      <td>...</td>\n",
       "      <td>...</td>\n",
       "    </tr>\n",
       "    <tr>\n",
       "      <th>237188</th>\n",
       "      <td>0</td>\n",
       "      <td>7ffebaf4</td>\n",
       "      <td>2147400436</td>\n",
       "    </tr>\n",
       "    <tr>\n",
       "      <th>703497</th>\n",
       "      <td>0</td>\n",
       "      <td>7ffebaf4</td>\n",
       "      <td>2147400436</td>\n",
       "    </tr>\n",
       "    <tr>\n",
       "      <th>237397</th>\n",
       "      <td>1</td>\n",
       "      <td>7ffebaf4</td>\n",
       "      <td>2147400436</td>\n",
       "    </tr>\n",
       "    <tr>\n",
       "      <th>237214</th>\n",
       "      <td>1</td>\n",
       "      <td>7ffebb5c</td>\n",
       "      <td>2147400540</td>\n",
       "    </tr>\n",
       "    <tr>\n",
       "      <th>237211</th>\n",
       "      <td>0</td>\n",
       "      <td>7ffebb5c</td>\n",
       "      <td>2147400540</td>\n",
       "    </tr>\n",
       "  </tbody>\n",
       "</table>\n",
       "<p>1000001 rows × 3 columns</p>\n",
       "</div>"
      ],
      "text/plain": [
       "        Action       Hex         Dec\n",
       "237199       2    40044c     4195404\n",
       "237200       2    400450     4195408\n",
       "237202       2    400454     4195412\n",
       "237203       2    400458     4195416\n",
       "237204       2    40045c     4195420\n",
       "...        ...       ...         ...\n",
       "237188       0  7ffebaf4  2147400436\n",
       "703497       0  7ffebaf4  2147400436\n",
       "237397       1  7ffebaf4  2147400436\n",
       "237214       1  7ffebb5c  2147400540\n",
       "237211       0  7ffebb5c  2147400540\n",
       "\n",
       "[1000001 rows x 3 columns]"
      ]
     },
     "execution_count": 7,
     "metadata": {},
     "output_type": "execute_result"
    }
   ],
   "source": [
    "df"
   ]
  },
  {
   "cell_type": "code",
   "execution_count": 10,
   "metadata": {},
   "outputs": [
    {
     "data": {
      "text/plain": [
       "<AxesSubplot:>"
      ]
     },
     "execution_count": 10,
     "metadata": {},
     "output_type": "execute_result"
    },
    {
     "data": {
      "image/png": "[encoded data removed]",
      "text/plain": [
       "<Figure size 432x288 with 1 Axes>"
      ]
     },
     "metadata": {
      "needs_background": "light"
     },
     "output_type": "display_data"
    }
   ],
   "source": [
    "df['Dec'].hist(bins=15)"
   ]
  },
  {
   "cell_type": "code",
   "execution_count": null,
   "metadata": {},
   "outputs": [],
   "source": []
  }
 ],
 "metadata": {
  "kernelspec": {
   "display_name": "Python 3",
   "language": "python",
   "name": "python3"
  },
  "language_info": {
   "codemirror_mode": {
    "name": "ipython",
    "version": 3
   },
   "file_extension": ".py",
   "mimetype": "text/x-python",
   "name": "python",
   "nbconvert_exporter": "python",
   "pygments_lexer": "ipython3",
   "version": "3.7.3"
  }
 },
 "nbformat": 4,
 "nbformat_minor": 2
}
